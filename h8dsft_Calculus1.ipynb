{
  "cells": [
    {
      "cell_type": "markdown",
      "metadata": {
        "colab_type": "text",
        "id": "view-in-github"
      },
      "source": [
        "<a href=\"https://colab.research.google.com/github/gideont07/Hacktiv8-Journey/blob/main/h8dsft_Calculus1.ipynb\" target=\"_parent\"><img src=\"https://colab.research.google.com/assets/colab-badge.svg\" alt=\"Open In Colab\"/></a>"
      ]
    },
    {
      "attachments": {},
      "cell_type": "markdown",
      "metadata": {},
      "source": [
        "# NON Graded Challenge 1\n",
        "## i. Perkenalan\n",
        "`Marchelly Gideon Tambunan`\\\n",
        "`Hactive8 Student`\\\n",
        "`Batch : 003`"
      ]
    },
    {
      "cell_type": "code",
      "execution_count": 4,
      "metadata": {
        "id": "Sr4EJ7yoibQh"
      },
      "outputs": [],
      "source": [
        "import numpy as np          #import library\n",
        "import sympy as sy"
      ]
    },
    {
      "cell_type": "code",
      "execution_count": 7,
      "metadata": {
        "colab": {
          "base_uri": "https://localhost:8080/",
          "height": 38
        },
        "id": "oNFKuIzsCkn-",
        "outputId": "6f133174-8ec1-4a23-da14-f40ea1834dd2"
      },
      "outputs": [
        {
          "data": {
            "text/latex": [
              "$\\displaystyle x^{2} + 2 x + 1$"
            ],
            "text/plain": [
              "x**2 + 2*x + 1"
            ]
          },
          "execution_count": 7,
          "metadata": {},
          "output_type": "execute_result"
        }
      ],
      "source": [
        "x = sy.symbols('x')         #mencari turunan dari soal 1\n",
        "y = x**2 + 2*x + 1\n",
        "y"
      ]
    },
    {
      "cell_type": "code",
      "execution_count": 8,
      "metadata": {
        "colab": {
          "base_uri": "https://localhost:8080/",
          "height": 38
        },
        "id": "0q6NA4wzETm3",
        "outputId": "7e5b5290-61a1-487e-da6c-dc85c19c638b"
      },
      "outputs": [
        {
          "data": {
            "text/latex": [
              "$\\displaystyle 2 x + 2$"
            ],
            "text/plain": [
              "2*x + 2"
            ]
          },
          "execution_count": 8,
          "metadata": {},
          "output_type": "execute_result"
        }
      ],
      "source": [
        "sy.diff(y,x)                #hasil turunan soal 1"
      ]
    },
    {
      "cell_type": "code",
      "execution_count": 9,
      "metadata": {
        "colab": {
          "base_uri": "https://localhost:8080/",
          "height": 38
        },
        "id": "j15g8DhhEfeg",
        "outputId": "45ffb563-ad2b-41cc-891d-decc2733eb28"
      },
      "outputs": [
        {
          "data": {
            "text/latex": [
              "$\\displaystyle 4 x^{3} - 3 x^{2} + 2 x - 1$"
            ],
            "text/plain": [
              "4*x**3 - 3*x**2 + 2*x - 1"
            ]
          },
          "execution_count": 9,
          "metadata": {},
          "output_type": "execute_result"
        }
      ],
      "source": [
        "x = sy.symbols('x')         #mencari turunan soal 2\n",
        "y = 4*x**3 - 3*x**2 + 2*x - 1\n",
        "y"
      ]
    },
    {
      "cell_type": "code",
      "execution_count": 10,
      "metadata": {
        "colab": {
          "base_uri": "https://localhost:8080/",
          "height": 38
        },
        "id": "yaEs_V3QFNOQ",
        "outputId": "63906fd0-9183-4eb0-b638-ce942458c121"
      },
      "outputs": [
        {
          "data": {
            "text/latex": [
              "$\\displaystyle 12 x^{2} - 6 x + 2$"
            ],
            "text/plain": [
              "12*x**2 - 6*x + 2"
            ]
          },
          "execution_count": 10,
          "metadata": {},
          "output_type": "execute_result"
        }
      ],
      "source": [
        "sy.diff(y,x)                #hasil turunan soal 2"
      ]
    }
  ],
  "metadata": {
    "colab": {
      "authorship_tag": "ABX9TyOjhzHGbTogUwq0RET3yMx6",
      "include_colab_link": true,
      "provenance": []
    },
    "kernelspec": {
      "display_name": "base",
      "language": "python",
      "name": "python3"
    },
    "language_info": {
      "name": "python",
      "version": "3.9.13 (main, Aug 25 2022, 23:51:50) [MSC v.1916 64 bit (AMD64)]"
    },
    "vscode": {
      "interpreter": {
        "hash": "20a9e06a1eee47c4abbed4ec8225ad91d78d9800d202b71b6b0a6e47016c6abd"
      }
    }
  },
  "nbformat": 4,
  "nbformat_minor": 0
}
