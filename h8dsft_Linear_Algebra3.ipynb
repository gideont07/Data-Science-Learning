{
  "cells": [
    {
      "attachments": {},
      "cell_type": "markdown",
      "metadata": {},
      "source": [
        "# NON Graded Challenge 1\n",
        "## i. Perkenalan\n",
        "`Marchelly Gideon Tambunan`\\\n",
        "`Hactive8 Student`\\\n",
        "`Batch : 003`"
      ]
    },
    {
      "cell_type": "code",
      "execution_count": 1,
      "metadata": {
        "id": "rWcn5pCy_112"
      },
      "outputs": [],
      "source": [
        "import numpy as np                 #import library"
      ]
    },
    {
      "cell_type": "code",
      "execution_count": 17,
      "metadata": {
        "id": "r3hzRLIy7xbi"
      },
      "outputs": [],
      "source": [
        "A = np.array([1,3])                 #membuktikan apakah A eigenvector dari B?\n",
        "B = np.array([[1,-1],[6, -4]])"
      ]
    },
    {
      "cell_type": "code",
      "execution_count": 19,
      "metadata": {
        "id": "CwZxEltc_JzK"
      },
      "outputs": [],
      "source": [
        "a,b = np.linalg.eig(B)"
      ]
    },
    {
      "cell_type": "code",
      "execution_count": 20,
      "metadata": {
        "colab": {
          "base_uri": "https://localhost:8080/"
        },
        "id": "MJ2Mwy5X_L0e",
        "outputId": "ad36719e-9b06-465e-d4fd-3ab9764d58a5"
      },
      "outputs": [
        {
          "data": {
            "text/plain": [
              "array([-1., -2.])"
            ]
          },
          "execution_count": 20,
          "metadata": {},
          "output_type": "execute_result"
        }
      ],
      "source": [
        "a"
      ]
    },
    {
      "cell_type": "code",
      "execution_count": 21,
      "metadata": {
        "colab": {
          "base_uri": "https://localhost:8080/"
        },
        "id": "eLQjWYmI_-y2",
        "outputId": "c81f69de-5fbe-4ff9-98bf-1db29df755de"
      },
      "outputs": [
        {
          "data": {
            "text/plain": [
              "array([[0.4472136 , 0.31622777],\n",
              "       [0.89442719, 0.9486833 ]])"
            ]
          },
          "execution_count": 21,
          "metadata": {},
          "output_type": "execute_result"
        }
      ],
      "source": [
        "b"
      ]
    },
    {
      "cell_type": "code",
      "execution_count": 22,
      "metadata": {
        "colab": {
          "base_uri": "https://localhost:8080/"
        },
        "id": "k1mKOpYg_PQi",
        "outputId": "c265c8e7-af36-4307-dbe1-a1e076fe0b23"
      },
      "outputs": [
        {
          "data": {
            "text/plain": [
              "array([0.31622777, 0.9486833 ])"
            ]
          },
          "execution_count": 22,
          "metadata": {},
          "output_type": "execute_result"
        }
      ],
      "source": [
        "A/np.linalg.norm(A)             #hasil dibawah terbukti bahwa A eigenvector dari B"
      ]
    }
  ],
  "metadata": {
    "colab": {
      "provenance": []
    },
    "kernelspec": {
      "display_name": "base",
      "language": "python",
      "name": "python3"
    },
    "language_info": {
      "name": "python",
      "version": "3.9.13 (main, Aug 25 2022, 23:51:50) [MSC v.1916 64 bit (AMD64)]"
    },
    "vscode": {
      "interpreter": {
        "hash": "20a9e06a1eee47c4abbed4ec8225ad91d78d9800d202b71b6b0a6e47016c6abd"
      }
    }
  },
  "nbformat": 4,
  "nbformat_minor": 0
}
