{
  "cells": [
    {
      "cell_type": "markdown",
      "metadata": {
        "id": "zSupUJShi8Nu"
      },
      "source": [
        "## Non Graded Challenge\n",
        "\n",
        "Marchelly Gideon Tambunan\n",
        "\n",
        "Batch 003"
      ]
    },
    {
      "cell_type": "code",
      "execution_count": 30,
      "metadata": {
        "id": "StTJHb-icVwX"
      },
      "outputs": [],
      "source": [
        "import numpy as np                      #import library\n",
        "import matplotlib.pyplot as plt"
      ]
    },
    {
      "cell_type": "code",
      "execution_count": 22,
      "metadata": {
        "id": "-olgoOen45G6"
      },
      "outputs": [],
      "source": [
        "t = np.array([[23, 50, 7, 12],          #membuat tensor dengan Python\n",
        "               [57, 67, 99, 43],\n",
        "               [75, 21, 57, 12],\n",
        "               [87, 26, 18, 84]])\n"
      ]
    },
    {
      "cell_type": "code",
      "execution_count": 23,
      "metadata": {
        "colab": {
          "base_uri": "https://localhost:8080/"
        },
        "id": "5y2lfqTxcU2l",
        "outputId": "9ea3409b-905b-46d8-8c75-2d9a42478b8d"
      },
      "outputs": [
        {
          "data": {
            "text/plain": [
              "array([[[23, 50,  7, 12],\n",
              "        [57, 67, 99, 43],\n",
              "        [75, 21, 57, 12],\n",
              "        [87, 26, 18, 84]]])"
            ]
          },
          "execution_count": 23,
          "metadata": {},
          "output_type": "execute_result"
        }
      ],
      "source": [
        "tensor = np.array([t])\n",
        "tensor"
      ]
    },
    {
      "cell_type": "code",
      "execution_count": 24,
      "metadata": {
        "colab": {
          "base_uri": "https://localhost:8080/"
        },
        "id": "nkhBBrLHckww",
        "outputId": "118f366e-322b-42eb-9835-33326bdc20cb"
      },
      "outputs": [
        {
          "data": {
            "text/plain": [
              "array([[ 391, 1100,  361],\n",
              "       [ 119,  264, 2071],\n",
              "       [ 969, 1474, 1862]])"
            ]
          },
          "execution_count": 24,
          "metadata": {},
          "output_type": "execute_result"
        }
      ],
      "source": [
        "a = np.array([[23, 50, 19],             #melakukan perkalian matriks\n",
        "             [7, 12, 109],\n",
        "             [57, 67, 98]])\n",
        "b = np.array([17, 22, 19])\n",
        "\n",
        "a * b"
      ]
    },
    {
      "cell_type": "code",
      "execution_count": 25,
      "metadata": {
        "colab": {
          "base_uri": "https://localhost:8080/"
        },
        "id": "KEw0tFH6gt4M",
        "outputId": "e832745a-b8c6-4537-ac3b-a5883ccad48d"
      },
      "outputs": [
        {
          "data": {
            "text/plain": [
              "array([[ 23,   7,  57],\n",
              "       [ 50,  12,  67],\n",
              "       [ 19, 109,  98]])"
            ]
          },
          "execution_count": 25,
          "metadata": {},
          "output_type": "execute_result"
        }
      ],
      "source": [
        "a_transpose = a.transpose()               #melakukan transpose pada matriks\n",
        "\n",
        "a_transpose"
      ]
    },
    {
      "cell_type": "code",
      "execution_count": 29,
      "metadata": {
        "colab": {
          "base_uri": "https://localhost:8080/"
        },
        "id": "mJVD1gX4hQTt",
        "outputId": "50356f1f-0689-40e7-ce93-e00c9925749c"
      },
      "outputs": [
        {
          "data": {
            "text/plain": [
              "131344.0000000002"
            ]
          },
          "execution_count": 29,
          "metadata": {},
          "output_type": "execute_result"
        }
      ],
      "source": [
        "det_a = np.linalg.det(a)                  #melakukan determinan pada matriks\n",
        "det_a"
      ]
    },
    {
      "cell_type": "code",
      "execution_count": 28,
      "metadata": {
        "colab": {
          "base_uri": "https://localhost:8080/"
        },
        "id": "7xY5q26HihOR",
        "outputId": "e580f773-559c-4e5a-fa6c-b81d3496b78f"
      },
      "outputs": [
        {
          "data": {
            "text/plain": [
              "array([[-0.0466485 , -0.02761451,  0.03975819],\n",
              "       [ 0.04208034,  0.00891552, -0.01807467],\n",
              "       [-0.00163692,  0.0099662 , -0.00056341]])"
            ]
          },
          "execution_count": 28,
          "metadata": {},
          "output_type": "execute_result"
        }
      ],
      "source": [
        "inv_a = np.linalg.inv(a)                  #melakukan inverse pada matriks\n",
        "inv_a"
      ]
    }
  ],
  "metadata": {
    "colab": {
      "provenance": []
    },
    "kernelspec": {
      "display_name": "base",
      "language": "python",
      "name": "python3"
    },
    "language_info": {
      "name": "python",
      "version": "3.9.13 (main, Aug 25 2022, 23:51:50) [MSC v.1916 64 bit (AMD64)]"
    },
    "vscode": {
      "interpreter": {
        "hash": "20a9e06a1eee47c4abbed4ec8225ad91d78d9800d202b71b6b0a6e47016c6abd"
      }
    }
  },
  "nbformat": 4,
  "nbformat_minor": 0
}
