{
  "cells": [
    {
      "cell_type": "markdown",
      "metadata": {
        "colab_type": "text",
        "id": "view-in-github"
      },
      "source": [
        "<a href=\"https://colab.research.google.com/github/gideont07/Hacktiv8-Journey/blob/main/h8dsft_Calculus3.ipynb\" target=\"_parent\"><img src=\"https://colab.research.google.com/assets/colab-badge.svg\" alt=\"Open In Colab\"/></a>"
      ]
    },
    {
      "attachments": {},
      "cell_type": "markdown",
      "metadata": {},
      "source": [
        "# NON Graded Challenge 1\n",
        "## i. Perkenalan\n",
        "`Marchelly Gideon Tambunan`\\\n",
        "`Hactive8 Student`\\\n",
        "`Batch : 003`"
      ]
    },
    {
      "cell_type": "code",
      "execution_count": 1,
      "metadata": {
        "id": "ujwAkpQDJtrf"
      },
      "outputs": [],
      "source": [
        "# import library yang diperlukan\n",
        "import numpy as np\n",
        "import sympy as sy"
      ]
    },
    {
      "cell_type": "code",
      "execution_count": 5,
      "metadata": {
        "colab": {
          "base_uri": "https://localhost:8080/",
          "height": 38
        },
        "id": "RXQ4Y7woHGLS",
        "outputId": "52a7017c-278a-4df7-bea2-073fa27e2a41"
      },
      "outputs": [
        {
          "data": {
            "text/latex": [
              "$\\displaystyle 3 x + 4 y - 5$"
            ],
            "text/plain": [
              "3*x + 4*y - 5"
            ]
          },
          "execution_count": 5,
          "metadata": {},
          "output_type": "execute_result"
        }
      ],
      "source": [
        "# memasukkan fungsi ke dalam python\n",
        "x,y = sy.symbols('x y')\n",
        "z = 3*x + 4*y - 5\n",
        "z"
      ]
    },
    {
      "cell_type": "code",
      "execution_count": 7,
      "metadata": {
        "colab": {
          "base_uri": "https://localhost:8080/",
          "height": 38
        },
        "id": "E9U_SOx5HCjs",
        "outputId": "adcf3e21-8c00-41c1-fdc0-5e183c4885d0"
      },
      "outputs": [
        {
          "data": {
            "text/latex": [
              "$\\displaystyle \\left[\\begin{matrix}3 & 4\\end{matrix}\\right]$"
            ],
            "text/plain": [
              "[3, 4]"
            ]
          },
          "execution_count": 7,
          "metadata": {},
          "output_type": "execute_result"
        }
      ],
      "source": [
        "# mencari gradient dari sebuah fungsi\n",
        "from sympy.tensor.array import derive_by_array\n",
        "grad = derive_by_array(z, (x,y))\n",
        "grad"
      ]
    }
  ],
  "metadata": {
    "colab": {
      "authorship_tag": "ABX9TyNnsLsRihWHkOSjzWmea8Ms",
      "include_colab_link": true,
      "provenance": []
    },
    "kernelspec": {
      "display_name": "base",
      "language": "python",
      "name": "python3"
    },
    "language_info": {
      "name": "python",
      "version": "3.9.13 (main, Aug 25 2022, 23:51:50) [MSC v.1916 64 bit (AMD64)]"
    },
    "vscode": {
      "interpreter": {
        "hash": "20a9e06a1eee47c4abbed4ec8225ad91d78d9800d202b71b6b0a6e47016c6abd"
      }
    }
  },
  "nbformat": 4,
  "nbformat_minor": 0
}
