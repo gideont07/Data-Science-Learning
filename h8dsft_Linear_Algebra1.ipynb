{
  "cells": [
    {
      "attachments": {},
      "cell_type": "markdown",
      "metadata": {},
      "source": [
        "# NON Graded Challenge 1\n",
        "## i. Perkenalan\n",
        "`Marchelly Gideon Tambunan`\\\n",
        "`Hactive8 Student`\\\n",
        "`Batch : 003`"
      ]
    },
    {
      "cell_type": "code",
      "execution_count": 7,
      "metadata": {
        "id": "zoUegsOoQ7mX"
      },
      "outputs": [],
      "source": [
        "import numpy as np\n",
        "import matplotlib.pyplot as plt"
      ]
    },
    {
      "cell_type": "code",
      "execution_count": 19,
      "metadata": {
        "id": "cSdKO5vlXwN5"
      },
      "outputs": [],
      "source": [
        "def plot_vector2d(vector2d, origin=[0, 0], **options):\n",
        "    return plt.arrow(origin[0], origin[1], vector2d[0], vector2d[1],\n",
        "              head_width=0.2, head_length=0.3, length_includes_head=True,\n",
        "              **options)"
      ]
    },
    {
      "cell_type": "code",
      "execution_count": 8,
      "metadata": {
        "colab": {
          "base_uri": "https://localhost:8080/"
        },
        "id": "rO-go3cNv2If",
        "outputId": "a746b297-5af2-4366-c5f1-9cc625580c94"
      },
      "outputs": [
        {
          "data": {
            "text/plain": [
              "array([17, 22, 19])"
            ]
          },
          "execution_count": 8,
          "metadata": {},
          "output_type": "execute_result"
        }
      ],
      "source": [
        "a = np.array([17, 22, 19])\n",
        "b = np.array([10, 20, 11])\n",
        "c = np.array([5, 12, 9])\n",
        "\n",
        "a"
      ]
    },
    {
      "cell_type": "code",
      "execution_count": 10,
      "metadata": {
        "colab": {
          "base_uri": "https://localhost:8080/"
        },
        "id": "nu4PtELYSB4v",
        "outputId": "8c806991-01dd-4548-ad28-804e74e87d4d"
      },
      "outputs": [
        {
          "data": {
            "text/plain": [
              "array([27, 42, 30])"
            ]
          },
          "execution_count": 10,
          "metadata": {},
          "output_type": "execute_result"
        }
      ],
      "source": [
        "a + b"
      ]
    },
    {
      "cell_type": "code",
      "execution_count": 11,
      "metadata": {
        "colab": {
          "base_uri": "https://localhost:8080/"
        },
        "id": "mLCfM77WTvTL",
        "outputId": "2fe89895-2f55-4750-e1c0-4512e044d69c"
      },
      "outputs": [
        {
          "data": {
            "text/plain": [
              "array([5, 8, 2])"
            ]
          },
          "execution_count": 11,
          "metadata": {},
          "output_type": "execute_result"
        }
      ],
      "source": [
        "b - c"
      ]
    },
    {
      "cell_type": "code",
      "execution_count": 16,
      "metadata": {
        "colab": {
          "base_uri": "https://localhost:8080/"
        },
        "id": "p8Rw7BJ3T3nW",
        "outputId": "02970d3d-05b9-40dd-e91f-7409d7a78ba9"
      },
      "outputs": [
        {
          "data": {
            "text/plain": [
              "520"
            ]
          },
          "execution_count": 16,
          "metadata": {},
          "output_type": "execute_result"
        }
      ],
      "source": [
        "a.dot(c)"
      ]
    },
    {
      "cell_type": "code",
      "execution_count": 17,
      "metadata": {
        "colab": {
          "base_uri": "https://localhost:8080/"
        },
        "id": "aB9r4u1GU1Yz",
        "outputId": "f1478306-5e59-4826-ee76-bd68dded6cfb"
      },
      "outputs": [
        {
          "data": {
            "text/plain": [
              "array([170, 440, 209])"
            ]
          },
          "execution_count": 17,
          "metadata": {},
          "output_type": "execute_result"
        }
      ],
      "source": [
        "a*b"
      ]
    },
    {
      "cell_type": "code",
      "execution_count": 18,
      "metadata": {
        "colab": {
          "base_uri": "https://localhost:8080/"
        },
        "id": "UcKsb9-uVZX4",
        "outputId": "a9506e4c-9927-4e9d-b120-24e2232c8997"
      },
      "outputs": [
        {
          "data": {
            "text/plain": [
              "33.67491648096547"
            ]
          },
          "execution_count": 18,
          "metadata": {},
          "output_type": "execute_result"
        }
      ],
      "source": [
        "v_norm= np.linalg.norm(a)\n",
        "v_norm"
      ]
    },
    {
      "cell_type": "code",
      "execution_count": 24,
      "metadata": {
        "colab": {
          "base_uri": "https://localhost:8080/",
          "height": 269
        },
        "id": "Zi0fp4TKWYdo",
        "outputId": "81d8003c-78bc-4f38-cebb-a76d0a139e6f"
      },
      "outputs": [
        {
          "data": {
            "image/png": "[encoded data removed]",
            "text/plain": [
              "<Figure size 432x288 with 1 Axes>"
            ]
          },
          "metadata": {
            "needs_background": "light"
          },
          "output_type": "display_data"
        }
      ],
      "source": [
        "plot_vector2d(a, color='r')\n",
        "plot_vector2d(b, color='b')\n",
        "\n",
        "plt.axis([0,30,0,30])\n",
        "plt.grid()\n",
        "plt.show()"
      ]
    },
    {
      "cell_type": "code",
      "execution_count": 25,
      "metadata": {
        "colab": {
          "base_uri": "https://localhost:8080/"
        },
        "id": "vcQVa4zhZDJo",
        "outputId": "78af6029-4987-4c36-e98a-8b1c1b109fe3"
      },
      "outputs": [
        {
          "data": {
            "text/plain": [
              "0.21971776576153962"
            ]
          },
          "execution_count": 25,
          "metadata": {},
          "output_type": "execute_result"
        }
      ],
      "source": [
        "cos_theta = a @ b / (np.linalg.norm(a) * np.linalg.norm(b))\n",
        "\n",
        "rad = np.arccos(cos_theta)\n",
        "rad"
      ]
    },
    {
      "cell_type": "code",
      "execution_count": 26,
      "metadata": {
        "colab": {
          "base_uri": "https://localhost:8080/"
        },
        "id": "T9BRTu5TZQOr",
        "outputId": "035621ae-39ec-4420-9a3f-39861a61e834"
      },
      "outputs": [
        {
          "data": {
            "text/plain": [
              "12.588900662180242"
            ]
          },
          "execution_count": 26,
          "metadata": {},
          "output_type": "execute_result"
        }
      ],
      "source": [
        "degree = np.degrees(rad)\n",
        "degree"
      ]
    },
    {
      "cell_type": "code",
      "execution_count": 27,
      "metadata": {
        "id": "6BMblqVwZ640"
      },
      "outputs": [],
      "source": [
        "u = np.array([2, 5])\n",
        "v = np.array([2, 1])"
      ]
    },
    {
      "cell_type": "code",
      "execution_count": 28,
      "metadata": {
        "colab": {
          "base_uri": "https://localhost:8080/",
          "height": 269
        },
        "id": "J8ILqhTcaPna",
        "outputId": "09f11c15-ba52-4d5c-d2a3-e3e0829cca08"
      },
      "outputs": [
        {
          "data": {
            "image/png": "[encoded data removed]",
            "text/plain": [
              "<Figure size 432x288 with 1 Axes>"
            ]
          },
          "metadata": {
            "needs_background": "light"
          },
          "output_type": "display_data"
        }
      ],
      "source": [
        "plot_vector2d(u, color='r')\n",
        "plot_vector2d(v, color='b')\n",
        "\n",
        "plt.axis([0,10,0,10])\n",
        "plt.grid()\n",
        "plt.show()"
      ]
    }
  ],
  "metadata": {
    "colab": {
      "provenance": []
    },
    "kernelspec": {
      "display_name": "base",
      "language": "python",
      "name": "python3"
    },
    "language_info": {
      "name": "python",
      "version": "3.9.13 (main, Aug 25 2022, 23:51:50) [MSC v.1916 64 bit (AMD64)]"
    },
    "vscode": {
      "interpreter": {
        "hash": "20a9e06a1eee47c4abbed4ec8225ad91d78d9800d202b71b6b0a6e47016c6abd"
      }
    }
  },
  "nbformat": 4,
  "nbformat_minor": 0
}
